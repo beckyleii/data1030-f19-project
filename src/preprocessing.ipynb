{
 "cells": [
  {
   "cell_type": "code",
   "execution_count": null,
   "metadata": {},
   "outputs": [],
   "source": [
    "# read the data\n",
    "from sklearn.impute import SimpleImputer\n",
    "from sklearn.preprocessing import OneHotEncoder\n",
    "from sklearn.preprocessing import OrdinalEncoder\n",
    "from sklearn.preprocessing import MinMaxScaler\n",
    "from sklearn.preprocessing import StandardScaler\n",
    "from sklearn.preprocessing import LabelEncoder\n",
    "from sklearn.experimental import enable_iterative_imputer\n",
    "from sklearn.impute import IterativeImputer\n",
    "from sklearn.experimental import enable_iterative_imputer\n",
    "from sklearn.ensemble import RandomForestRegressor\n",
    "import matplotlib\n",
    "from matplotlib import pylab as plt\n",
    "import pandas as pd\n",
    "import numpy as np\n",
    "\n",
    "# Let's load the data\n",
    "df = pd.read_csv('online_shoppers_intention.csv')\n",
    "\n",
    "# drop the target variable\n",
    "y = df['Revenue']\n",
    "df.drop(columns=['Revenue'],inplace=True)\n",
    "\n",
    "# features that does not need to be preprocess: 'BounceRates', 'ExitRates'\n",
    "\n",
    "# OneHot Encoder.\n",
    "df_cat = df[['OperatingSystems','Browser','Region','TrafficType','VisitorType','Weekend']]\n",
    "\n",
    "df_imp = pd.DataFrame(imp.fit_transform(df_cat),columns = ['OperatingSystems','Browser','Region','TrafficType',\n",
    "                                                           'VisitorType','Weekend'] )\n",
    "\n",
    "hot_enc = OneHotEncoder(sparse=False, handle_unknown='ignore')\n",
    "all_hot = hot_enc.fit_transform(df_imp[['OperatingSystems','Browser','Region','TrafficType','VisitorType','Weekend']])\n",
    "df_alloh = pd.DataFrame(all_hot, columns = hot_enc.get_feature_names(['OperatingSystems','Browser','Region','TrafficType',\n",
    "                                                                      'VisitorType','Weekend']))\n",
    "\n",
    "# Ordinal Encoder\n",
    "df_ord = df[['Month']]\n",
    "ord_enc = OrdinalEncoder(categories = [['Feb', 'Mar', 'May', 'June','Jul','Aug','Sep','Oct','Nov','Dec']]) \n",
    "df_ord = pd.DataFrame(ord_enc.fit_transform(df_ord[['Month']]),columns = ['Month'])\n",
    "\n"
   ]
  },
  {
   "cell_type": "code",
   "execution_count": null,
   "metadata": {},
   "outputs": [],
   "source": [
    "# Standard Scalar\n",
    "df_con = df[['Administrative', 'Administrative_Duration', 'Informational','Informational_Duration', 'ProductRelated', \n",
    "             'ProductRelated_Duration','PageValues', 'SpecialDay']]\n",
    "sta_scaler = StandardScaler()\n",
    "\n",
    "df_num = pd.DataFrame(sta_scaler.fit_transform(df_con[['Administrative', 'Administrative_Duration', 'Informational',\n",
    "                                                       'Informational_Duration', 'ProductRelated', 'ProductRelated_Duration',\n",
    "                                                       'PageValues', 'SpecialDay']]), \n",
    "                      columns = ['Administrative', 'Administrative_Duration', 'Informational','Informational_Duration', \n",
    "                                 'ProductRelated', 'ProductRelated_Duration','PageValues', 'SpecialDay'])\n"
   ]
  },
  {
   "cell_type": "code",
   "execution_count": null,
   "metadata": {},
   "outputs": [],
   "source": [
    "# Preprocess the target variable ('Revenue')                                                              \n",
    "le = LabelEncoder()\n",
    "target_le = le.fit_transform(y.values.ravel())\n",
    "df_rev = pd.DataFrame(target_le,columns = ['Revenue'])\n",
    "df_rev.head()\n",
    "\n",
    "# Concatenate all dataframe into one large dataframe\n",
    "df_data = pd.concat([df_alloh,df_ord,df_num,df_rev],axis=1)\n",
    "df_data"
   ]
  }
 ],
 "metadata": {
  "kernelspec": {
   "display_name": "Python 3",
   "language": "python",
   "name": "python3"
  },
  "language_info": {
   "codemirror_mode": {
    "name": "ipython",
    "version": 3
   },
   "file_extension": ".py",
   "mimetype": "text/x-python",
   "name": "python",
   "nbconvert_exporter": "python",
   "pygments_lexer": "ipython3",
   "version": "3.7.3"
  }
 },
 "nbformat": 4,
 "nbformat_minor": 4
}
